{
 "cells": [
  {
   "cell_type": "code",
   "execution_count": 1,
   "metadata": {},
   "outputs": [
    {
     "name": "stdout",
     "output_type": "stream",
     "text": [
      "Requirement already satisfied: opencv-python==3.4.2.16 in /Users/donald/opt/anaconda3/lib/python3.7/site-packages (3.4.2.16)\n",
      "Requirement already satisfied: opencv-contrib-python==3.4.2.16 in /Users/donald/opt/anaconda3/lib/python3.7/site-packages (3.4.2.16)\n",
      "Requirement already satisfied: numpy>=1.14.5 in /Users/donald/opt/anaconda3/lib/python3.7/site-packages (from opencv-python==3.4.2.16) (1.18.1)\n",
      "Note: you may need to restart the kernel to use updated packages.\n"
     ]
    }
   ],
   "source": [
    "pip install opencv-python==3.4.2.16 opencv-contrib-python==3.4.2.16"
   ]
  },
  {
   "cell_type": "code",
   "execution_count": 2,
   "metadata": {},
   "outputs": [],
   "source": [
    "from matplotlib import pyplot as plt\n",
    "import cv2\n",
    "import numpy as np\n",
    "import math"
   ]
  },
  {
   "cell_type": "code",
   "execution_count": 3,
   "metadata": {},
   "outputs": [],
   "source": [
    "# Show an image in the notebook at the same size as the image\n",
    "# with optional title and colormap\n",
    "def show(img, title=None, cmap=None):\n",
    "\n",
    "    dpi = 80\n",
    "    height = img.shape[0]\n",
    "    width = img.shape[1]\n",
    "\n",
    "    # What size does the figure need to be in inches to fit the image?\n",
    "    figsize = width / float(dpi), height / float(dpi)\n",
    "\n",
    "    # Create a figure of the right size with one axes that takes up the full figure\n",
    "    fig = plt.figure(figsize=figsize)\n",
    "    ax = fig.add_axes([0, 0, 1, 1])\n",
    "\n",
    "    # Hide spines, ticks, etc.\n",
    "    ax.axis('off')\n",
    "\n",
    "    # Display the image.\n",
    "    if (cmap):\n",
    "        ax.imshow(img, cmap=cmap)\n",
    "    else:\n",
    "        ax.imshow(img)\n",
    "        \n",
    "    if (title):\n",
    "        plt.title(title)\n",
    "        \n",
    "    plt.show()"
   ]
  },
  {
   "cell_type": "code",
   "execution_count": 4,
   "metadata": {},
   "outputs": [
    {
     "data": {
      "image/png": "[encoded data removed]",
      "text/plain": [
       "<Figure size 175.5x173.7 with 1 Axes>"
      ]
     },
     "metadata": {
      "needs_background": "light"
     },
     "output_type": "display_data"
    }
   ],
   "source": [
    "# Load the image with puzzle pieces\n",
    "img = cv2.imread('puzzle.png')\n",
    "# img = cv2.imread('pieces1.jpg')\n",
    "# img = cv2.imread('online.png')\n",
    "\n",
    "# Convert to gray scale\n",
    "img_gray = cv2.cvtColor(img, cv2.COLOR_BGR2GRAY)\n",
    "\n",
    "# Binary threshold\n",
    "_, img_binary = cv2.threshold(img_gray, 225, 255, cv2.THRESH_BINARY_INV)\n",
    "\n",
    "# Show\n",
    "show(img_binary, title='binary', cmap='gray')"
   ]
  },
  {
   "cell_type": "code",
   "execution_count": 6,
   "metadata": {},
   "outputs": [
    {
     "data": {
      "image/png": "[encoded data removed]",
      "text/plain": [
       "<Figure size 175.5x173.7 with 1 Axes>"
      ]
     },
     "metadata": {
      "needs_background": "light"
     },
     "output_type": "display_data"
    }
   ],
   "source": [
    "# Find the contours in the binary image\n",
    "ci, contours, hierarchy = cv2.findContours(img_binary, cv2.RETR_TREE, cv2.CHAIN_APPROX_SIMPLE)\n",
    "\n",
    "# Draw all contours\n",
    "img_contours = img.copy()\n",
    "cv2.drawContours(img_contours, contours, -1, (255, 0, 0), 1)\n",
    "\n",
    "# Show\n",
    "show(img_contours, title='contours')"
   ]
  },
  {
   "cell_type": "code",
   "execution_count": 7,
   "metadata": {},
   "outputs": [
    {
     "data": {
      "image/png": "[encoded data removed]",
      "text/plain": [
       "<Figure size 175.5x173.7 with 1 Axes>"
      ]
     },
     "metadata": {
      "needs_background": "light"
     },
     "output_type": "display_data"
    }
   ],
   "source": [
    "# Find oriented bounding rects from contours\n",
    "oriented_bboxes = []\n",
    "img_rect = img.copy()\n",
    "for c in contours:\n",
    "    # get the bounding rect\n",
    "    x, y, w, h = cv2.boundingRect(c)\n",
    "    # draw a green rectangle to visualize the bounding rect\n",
    "    # cv2.rectangle(img_rect, (x, y), (x+w, y+h), (255, 0, 0), 2)\n",
    "\n",
    "    # get the min area rect\n",
    "    rect = cv2.minAreaRect(c)\n",
    "    box = cv2.boxPoints(rect)\n",
    "    # convert all coordinates floating point values to int\n",
    "    box = np.int0(box)\n",
    "    # save\n",
    "    oriented_bboxes.append(box)\n",
    "    \n",
    "    # draw a red 'nghien' rectangle\n",
    "    cv2.drawContours(img_rect, [box], 0, (255, 0, 0), 1)\n",
    "\n",
    "# Show\n",
    "show(img_rect, title='oriented bounding boxes')"
   ]
  },
  {
   "cell_type": "code",
   "execution_count": 8,
   "metadata": {},
   "outputs": [],
   "source": [
    "# extract and reorient all the pieces\n",
    "pieces = []\n",
    "for box in oriented_bboxes:\n",
    "    # get rotated rect of contour and split into components\n",
    "    center, size, angle = cv2.minAreaRect(box)\n",
    "    if (size[0] == 0 or size[1] == 0):\n",
    "        pieces.append(None)\n",
    "        continue\n",
    "\n",
    "    # not sure why this is needed, see \n",
    "    # http://felix.abecassis.me/2011/10/opencv-rotation-deskewing/\n",
    "    if angle < -45.0:\n",
    "            angle += 90.0\n",
    "            width, height = size[0], size[1]\n",
    "            size = (height, width)\n",
    "\n",
    "    M = cv2.getRotationMatrix2D(center, angle, 1.0)\n",
    "\n",
    "    # rotate the entire image around the center of the parking cell by the\n",
    "    # angle of the rotated rect\n",
    "    # codereview: not sure why it was necessary to swap width and height here,\n",
    "    # probably related to the fact that we did angle += 90 earlier\n",
    "    imgWidth, imgHeight = (img.shape[0], img.shape[1])\n",
    "    rotated = cv2.warpAffine(img, M, (imgHeight, imgWidth), flags=cv2.INTER_CUBIC)\n",
    "\n",
    "    # extract the rect after rotation has been done\n",
    "    sizeInt = (np.int0(size[0]), np.int0(size[1]))\n",
    "    uprightRect = cv2.getRectSubPix(rotated, sizeInt, center)\n",
    "#     show(uprightRect)\n",
    "\n",
    "    pieces.append(uprightRect)"
   ]
  },
  {
   "cell_type": "code",
   "execution_count": 9,
   "metadata": {},
   "outputs": [
    {
     "data": {
      "image/png": "[encoded data removed]",
      "text/plain": [
       "<Figure size 432x288 with 9 Axes>"
      ]
     },
     "metadata": {},
     "output_type": "display_data"
    }
   ],
   "source": [
    "ncols = 3\n",
    "nrows = math.ceil(len(pieces) / ncols)\n",
    "# print(nrows)\n",
    "\n",
    "fig, axs = plt.subplots(nrows=nrows, ncols=ncols,\n",
    "                        subplot_kw={'xticks': [], 'yticks': []})\n",
    "\n",
    "for ax, piece in zip(axs.flat, pieces):\n",
    "    ax.spines[\"top\"].set_visible(False)\n",
    "    ax.spines[\"right\"].set_visible(False)\n",
    "    ax.spines[\"left\"].set_visible(False)\n",
    "    ax.spines[\"bottom\"].set_visible(False)\n",
    "\n",
    "    if piece is not None:\n",
    "        ax.imshow(piece)\n",
    "#     ax.set_title(str(interp_method))\n",
    "\n",
    "plt.tight_layout()\n",
    "plt.show()"
   ]
  },
  {
   "cell_type": "code",
   "execution_count": 24,
   "metadata": {},
   "outputs": [
    {
     "data": {
      "image/png": "[encoded data removed]",
      "text/plain": [
       "<Figure size 32.4x32.4 with 1 Axes>"
      ]
     },
     "metadata": {
      "needs_background": "light"
     },
     "output_type": "display_data"
    },
    {
     "data": {
      "image/png": "[encoded data removed]",
      "text/plain": [
       "<Figure size 41.4x31.5 with 1 Axes>"
      ]
     },
     "metadata": {
      "needs_background": "light"
     },
     "output_type": "display_data"
    },
    {
     "name": "stdout",
     "output_type": "stream",
     "text": [
      "Not enough matches are found - 0/1\n"
     ]
    },
    {
     "data": {
      "image/png": "[encoded data removed]",
      "text/plain": [
       "<Figure size 73.8x32.4 with 1 Axes>"
      ]
     },
     "metadata": {
      "needs_background": "light"
     },
     "output_type": "display_data"
    }
   ],
   "source": [
    "# Initiate SIFT detector\n",
    "sift =  cv2.xfeatures2d.SIFT_create()\n",
    "\n",
    "img1 = pieces[0].copy()\n",
    "img1 = cv2.cvtColor(img1, cv2.COLOR_BGR2GRAY) # queryImage\n",
    "_, img1 = cv2.threshold(img1, 225, 255, cv2.THRESH_BINARY_INV)\n",
    "\n",
    "img2 = pieces[1].copy()\n",
    "img2 = cv2.cvtColor(img2, cv2.COLOR_BGR2GRAY) # trainImage\n",
    "_, img2 = cv2.threshold(img2, 225, 255, cv2.THRESH_BINARY_INV)\n",
    "img2 = cv2.bitwise_not(img2)\n",
    "show(img1, cmap=\"gray\")\n",
    "show(img2, cmap=\"gray\")\n",
    "\n",
    "# Binary threshold\n",
    "\n",
    "# find the keypoints and descriptors with SIFT\n",
    "kp1, des1 = sift.detectAndCompute(img1,None)\n",
    "kp2, des2 = sift.detectAndCompute(img2,None)\n",
    "\n",
    "FLANN_INDEX_KDTREE = 0\n",
    "index_params = dict(algorithm = FLANN_INDEX_KDTREE, trees = 5)\n",
    "search_params = dict(checks = 50)\n",
    "\n",
    "flann = cv2.FlannBasedMatcher(index_params, search_params)\n",
    "\n",
    "matches = flann.knnMatch(des1,des2,k=2)\n",
    "good = []\n",
    "for m,n in matches:\n",
    "#     good.append(m)\n",
    "    if m.distance < 0.7*n.distance:\n",
    "        good.append(m)\n",
    "        \n",
    "MIN_MATCH_COUNT = 1\n",
    "\n",
    "if len(good)>MIN_MATCH_COUNT:\n",
    "    src_pts = np.float32([ kp1[m.queryIdx].pt for m in good ]).reshape(-1,1,2)\n",
    "    dst_pts = np.float32([ kp2[m.trainIdx].pt for m in good ]).reshape(-1,1,2)\n",
    "\n",
    "    M, mask = cv2.findHomography(src_pts, dst_pts, cv2.RANSAC,5.0)\n",
    "    matchesMask = mask.ravel().tolist()\n",
    "\n",
    "    d,h,w = img1.shape[::-1]\n",
    "    pts = np.float32([ [0,0],[0,h-1],[w-1,h-1],[w-1,0] ]).reshape(-1,1,2)\n",
    "    dst = cv2.perspectiveTransform(pts,M)\n",
    "\n",
    "    img2 = cv2.polylines(img2,[np.int32(dst)],True,255,3, cv2.LINE_AA)\n",
    "    show(img2)\n",
    "    \n",
    "else:\n",
    "    print(\"Not enough matches are found - %d/%d\" % (len(good),MIN_MATCH_COUNT))\n",
    "    matchesMask = None\n",
    "\n",
    "draw_params = dict(matchColor = (0,255,0), # draw matches in green color\n",
    "                   singlePointColor = None,\n",
    "                   matchesMask = matchesMask, # draw only inliers\n",
    "                   flags = cv2.DRAW_MATCHES_FLAGS_DRAW_RICH_KEYPOINTS)\n",
    "\n",
    "img3 = cv2.drawMatches(img1,kp1,img2,kp2,good,None,**draw_params)\n",
    "show(img3)"
   ]
  },
  {
   "cell_type": "code",
   "execution_count": null,
   "metadata": {},
   "outputs": [],
   "source": []
  }
 ],
 "metadata": {
  "kernelspec": {
   "display_name": "Python 3",
   "language": "python",
   "name": "python3"
  },
  "language_info": {
   "codemirror_mode": {
    "name": "ipython",
    "version": 3
   },
   "file_extension": ".py",
   "mimetype": "text/x-python",
   "name": "python",
   "nbconvert_exporter": "python",
   "pygments_lexer": "ipython3",
   "version": "3.7.7"
  }
 },
 "nbformat": 4,
 "nbformat_minor": 4
}
